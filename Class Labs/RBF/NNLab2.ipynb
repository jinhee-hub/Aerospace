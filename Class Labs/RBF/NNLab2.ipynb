{
  "nbformat": 4,
  "nbformat_minor": 0,
  "metadata": {
    "colab": {
      "name": "NNLab2_sameVar.ipynb",
      "provenance": [],
      "collapsed_sections": []
    },
    "kernelspec": {
      "name": "python3",
      "display_name": "Python 3"
    }
  },
  "cells": [
    {
      "cell_type": "code",
      "metadata": {
        "id": "VRVvu2VkyXUK"
      },
      "source": [
        "import numpy as np\r\n",
        "import random\r\n",
        "import math\r\n",
        "\r\n",
        "# can change these conditions\r\n",
        "learning_rate=0.01\r\n",
        "k=3\r\n",
        "N=75      # number of datapoints: 75\r\n",
        "\r\n",
        "\r\n",
        "x=np.random.uniform(0, 1, size=75).reshape(75,1)  # make 75 random x values\r\n",
        "x=np.sort(x, axis=0)\r\n",
        "noise=np.random.uniform(-0.1,0.1,size=75).reshape(75,1) # make noise\r\n",
        "h=0.5+0.4*np.sin(3*np.pi*x)  # h(x)\r\n",
        "\r\n",
        "d=np.array(h).reshape(N,1)  # desired(true) output\r\n",
        "h=np.add(h,noise) # add noise to h(x) function\r\n"
      ],
      "execution_count": 1,
      "outputs": []
    },
    {
      "cell_type": "code",
      "metadata": {
        "colab": {
          "base_uri": "https://localhost:8080/"
        },
        "id": "Eko4T98enIJ3",
        "outputId": "40cf9e1a-3c68-4069-bee5-0247c22de1a8"
      },
      "source": [
        "\r\n",
        "def Kmeans(x, k):\r\n",
        "    index=[i for i in range(N)]\r\n",
        "    randidx=random.sample(index, k)  # randomly select k indices for initial centers    \r\n",
        "    cent=[]\r\n",
        "    for i in randidx:\r\n",
        "        cent.append(x[i]) # randomly select k initial centers among x\r\n",
        "    converge=False\r\n",
        "\r\n",
        "    while not converge:\r\n",
        "   \r\n",
        "      cj=[]\r\n",
        "      for j in range(k):\r\n",
        "        cj.append([])  # make k clusters\r\n",
        "\r\n",
        "      for datapoint in x:  # datapoint\r\n",
        "          dis=[]\r\n",
        "          for c in cent:\r\n",
        "              distance=np.abs(datapoint-c)\r\n",
        "              dis.append(distance)\r\n",
        "\r\n",
        "          clus=dis.index(min(dis))  # find the closest cluster\r\n",
        "          cj[clus].append(datapoint)\r\n",
        "      \r\n",
        "      #update cluster center\r\n",
        "      newcent=[]\r\n",
        "      for i in cj:        # new Centroid of this cluster is average of containing datapoints\r\n",
        "        centx=[]\r\n",
        "        for j in i:\r\n",
        "          centx.append(j[0])\r\n",
        "        newcent.append(np.mean(centx))      \r\n",
        "      count=0\r\n",
        "      for i in range(len(cent)):\r\n",
        "        difcenter=np.abs(cent[i] - newcent[i])        \r\n",
        "        if difcenter < 0.0001:\r\n",
        "            count+=1\r\n",
        "        if count==k:\r\n",
        "          center=newcent    # cj is datapoints in each cluster  # newcent is the result of Kmeans: centroids\r\n",
        "          converge=True\r\n",
        "      cent=newcent\r\n",
        "    \r\n",
        "    # Get variance of each cluster\r\n",
        "    var=[]   # Variance = sigma^2\r\n",
        "    for j in range(k):   # for each clusters\r\n",
        "        n=len(cj[j])  # number of datapoints in this cluster\r\n",
        "        if n==1:     # if only one datapoint is in this cluster\r\n",
        "            var.append(1) # 1 will be replaced as average of other varicances\r\n",
        "        else:\r\n",
        "            dis = 0\r\n",
        "            for i in cj[j]:   # each data points in this particular cluster\r\n",
        "                dis+= np.abs(i- cent[j])**2     # get sum(|| uj - xi ||^2)\r\n",
        "                                                 # Eucldis has sqrt value. So square each\r\n",
        "            vari=(dis/n)\r\n",
        "            var.append(vari[0])\r\n",
        "    # to get variance of cluster which has only one data point or does not have datapoint\r\n",
        "    count=0\r\n",
        "    sum=0\r\n",
        "    for i in var:\r\n",
        "        if i!= 1:\r\n",
        "            sum+=i\r\n",
        "            count+=1\r\n",
        "    othervars=sum/count\r\n",
        "    for i in range(len(var)):\r\n",
        "        if var[i]==1 or var[i]==0:\r\n",
        "            var[i]=othervars\r\n",
        "\r\n",
        "    return center, var\r\n",
        "\r\n",
        "\r\n",
        "# From Kmeans and Vari, I can get Gaussian Centers(centroids) and Widths(variances)\r\n",
        "Kmeans(x,k)\r\n",
        "\r\n",
        "\r\n"
      ],
      "execution_count": 2,
      "outputs": [
        {
          "output_type": "execute_result",
          "data": {
            "text/plain": [
              "([0.8170626162836874, 0.509644638955589, 0.179528762248669],\n",
              " [0.010846573242334357, 0.0059395461811271675, 0.010850535831079972])"
            ]
          },
          "metadata": {
            "tags": []
          },
          "execution_count": 2
        }
      ]
    },
    {
      "cell_type": "code",
      "metadata": {
        "colab": {
          "base_uri": "https://localhost:8080/"
        },
        "id": "atitYXfX8xRd",
        "outputId": "a2ea89ce-113a-4714-83b1-74f53368177d"
      },
      "source": [
        "def rbf(x, cent, var):  # input is one datapoint, k centers, k variances\r\n",
        "    f=-1/(2*var)\r\n",
        "    b=(x-cent)**2    \r\n",
        "    return np.exp(f*b)\r\n",
        "\r\n",
        "centers, vars= Kmeans(x,k)\r\n",
        "\r\n",
        "def update(x,k):  \r\n",
        "  epochs=100\r\n",
        "    \r\n",
        "  weights=np.random.randn(k).reshape(1,k)\r\n",
        "  bias = np.random.randn(1)\r\n",
        "\r\n",
        "  print(weights)\r\n",
        "\r\n",
        "  for epoch in range(epochs):\r\n",
        "    for dp in range(len(x)):\r\n",
        "      aa=np.zeros(k).reshape(k,1)\r\n",
        "      for j in range(len(centers)):    \r\n",
        "        a=rbf(x[dp], centers[j], vars[j])\r\n",
        "        aa[j]=a   \r\n",
        "      F=np.dot(weights,aa)+bias\r\n",
        "      \r\n",
        "      loss=0.5*(h[dp]-F)**2  \r\n",
        "      error=-(h[dp] - F) \r\n",
        "\r\n",
        "      weights=weights - learning_rate*error*aa.T\r\n",
        "      bias=bias -learning_rate*error\r\n",
        "\r\n",
        "  final_weights=weights\r\n",
        "  final_bias=bias\r\n",
        "  return final_weights, final_bias\r\n",
        "\r\n",
        "final_weights, final_bias=update(x,k)\r\n",
        "print(final_weights)\r\n",
        "print(final_bias)"
      ],
      "execution_count": 3,
      "outputs": [
        {
          "output_type": "stream",
          "text": [
            "[[ 1.10242434  0.80614278 -2.07756897]]\n",
            "[[-0.32264425  0.49231111  0.44056864]]\n",
            "[[0.41387098]]\n"
          ],
          "name": "stdout"
        }
      ]
    },
    {
      "cell_type": "code",
      "metadata": {
        "id": "QfSvQZqfEWFn"
      },
      "source": [
        "def predict(x, final_weights, final_bias):\r\n",
        "  y_pred=[]\r\n",
        "  for dp in range(len(x)):\r\n",
        "    aa=np.zeros(k).reshape(k,1) \r\n",
        "    for j in range(k): \r\n",
        "      a=rbf(x[dp], centers[j], vars[j]) \r\n",
        "      aa[j]=a   \r\n",
        "    F=np.dot(final_weights,aa)+final_bias\r\n",
        "    y_pred.append(F[0])\r\n",
        "\r\n",
        "  return y_pred\r\n"
      ],
      "execution_count": 4,
      "outputs": []
    },
    {
      "cell_type": "code",
      "metadata": {
        "colab": {
          "base_uri": "https://localhost:8080/"
        },
        "id": "K-ubPnzZROfa",
        "outputId": "640ed797-9c1d-4029-f3ab-943da31b35ab"
      },
      "source": [
        "final_weights, final_bias=update(x,k)\r\n",
        "\r\n",
        "y=predict(x, final_weights, final_bias)\r\n",
        "\r\n"
      ],
      "execution_count": 5,
      "outputs": [
        {
          "output_type": "stream",
          "text": [
            "[[-0.88519633  0.76338417 -0.46566129]]\n"
          ],
          "name": "stdout"
        }
      ]
    },
    {
      "cell_type": "code",
      "metadata": {
        "colab": {
          "base_uri": "https://localhost:8080/",
          "height": 299
        },
        "id": "qmePwUVhnLzT",
        "outputId": "824da0ce-0d78-457a-8752-f8d83be2ca60"
      },
      "source": [
        "import matplotlib.pyplot as plt\r\n",
        "\r\n",
        "xr=np.arange(0,1, 0.01)\r\n",
        "yr=0.5+0.4*np.sin(3*np.pi*xr)\r\n",
        "\r\n",
        "plt.title('k= %d   lr= %0.2f' %(k,learning_rate))\r\n",
        "plt.plot(xr,yr, '-', color='black', label='h(x)')  # Blud curve is true function plot\r\n",
        "plt.plot(x,h, '--.', color='blue', label='true')  # red curve has noise: Our original datapoint\r\n",
        "plt.plot(x,y, '-*', color='red', label='RBF Network')  # red curve has noise \r\n",
        "plt.legend()"
      ],
      "execution_count": 6,
      "outputs": [
        {
          "output_type": "execute_result",
          "data": {
            "text/plain": [
              "<matplotlib.legend.Legend at 0x7fd070e22f10>"
            ]
          },
          "metadata": {
            "tags": []
          },
          "execution_count": 6
        },
        {
          "output_type": "display_data",
          "data": {
            "image/png": "[encoded data removed]",
            "text/plain": [
              "<Figure size 432x288 with 1 Axes>"
            ]
          },
          "metadata": {
            "tags": [],
            "needs_background": "light"
          }
        }
      ]
    },
    {
      "cell_type": "code",
      "metadata": {
        "colab": {
          "base_uri": "https://localhost:8080/",
          "height": 371
        },
        "id": "psuLtRoCf79V",
        "outputId": "2fba76e2-96ef-4d5e-b386-84058b6e3978"
      },
      "source": [
        "# use this for same standard variation\r\n",
        "\r\n",
        "dMax=max([np.abs(c1-c2) for c1 in centers for c2 in centers] )\r\n",
        "samevars=np.repeat((dMax**2)/(2*k), k)  # I just got variance instead of standard variation\r\n",
        "                                        # because my codes are depend on variances\r\n",
        "print(samevars)\r\n",
        "\r\n",
        "def svupdate(x,k):  \r\n",
        "  epochs=100\r\n",
        "    \r\n",
        "  weights=np.random.randn(k).reshape(1,k)\r\n",
        "  bias = np.random.randn(1)\r\n",
        "\r\n",
        "  print(weights)\r\n",
        "\r\n",
        "  for epoch in range(epochs):\r\n",
        "    for dp in range(len(x)):\r\n",
        "      aa=np.zeros(k).reshape(k,1)\r\n",
        "      for j in range(len(centers)):    \r\n",
        "        a=rbf(x[dp], centers[j], samevars[j])\r\n",
        "        aa[j]=a   \r\n",
        "      F=np.dot(weights,aa)+bias\r\n",
        "      \r\n",
        "      loss=0.5*(h[dp]-F)**2  \r\n",
        "      error=-(h[dp] - F) \r\n",
        "\r\n",
        "      weights=weights - learning_rate*error*aa.T\r\n",
        "      bias=bias -learning_rate*error\r\n",
        "\r\n",
        "  final_weights=weights\r\n",
        "  final_bias=bias\r\n",
        "  return final_weights, final_bias\r\n",
        "\r\n",
        "sv_final_weights, sv_final_bias=svupdate(x,k)\r\n",
        "print(sv_final_weights)\r\n",
        "print(sv_final_bias)\r\n",
        "\r\n",
        "\r\n",
        "def svpredict(x, final_weights, final_bias):\r\n",
        "  y_pred=[]\r\n",
        "  for dp in range(len(x)):\r\n",
        "    aa=np.zeros(k).reshape(k,1) \r\n",
        "    for j in range(k): \r\n",
        "      a=rbf(x[dp], centers[j], samevars[j]) \r\n",
        "      aa[j]=a   \r\n",
        "    F=np.dot(final_weights,aa)+final_bias\r\n",
        "    y_pred.append(F[0])\r\n",
        "\r\n",
        "  return y_pred\r\n",
        "\r\n",
        "svy=svpredict(x, sv_final_weights, sv_final_bias)\r\n",
        "\r\n",
        "\r\n",
        "\r\n",
        "xr=np.arange(0,1, 0.01)\r\n",
        "yr=0.5+0.4*np.sin(3*np.pi*xr)\r\n",
        "\r\n",
        "plt.title('same Gaussian Width k= %d   lr= %0.2f' %(k,learning_rate))\r\n",
        "plt.plot(xr,yr, '-', color='black', label='h(x)')  # Blud curve is true function plot\r\n",
        "plt.plot(x,h, '--.', color='blue', label='true')  # red curve has noise: Our original datapoint\r\n",
        "plt.plot(x,svy, '-*', color='red', label='RBF Network')  # red curve has noise \r\n",
        "plt.legend()"
      ],
      "execution_count": 7,
      "outputs": [
        {
          "output_type": "stream",
          "text": [
            "[0.06774157 0.06774157 0.06774157]\n",
            "[[-0.63965551 -0.15100324  0.41775737]]\n",
            "[[-0.71907568  0.53753631  0.46724883]]\n",
            "[[0.52460664]]\n"
          ],
          "name": "stdout"
        },
        {
          "output_type": "execute_result",
          "data": {
            "text/plain": [
              "<matplotlib.legend.Legend at 0x7fd070922710>"
            ]
          },
          "metadata": {
            "tags": []
          },
          "execution_count": 7
        },
        {
          "output_type": "display_data",
          "data": {
            "image/png": "[encoded data removed]",
            "text/plain": [
              "<Figure size 432x288 with 1 Axes>"
            ]
          },
          "metadata": {
            "tags": [],
            "needs_background": "light"
          }
        }
      ]
    },
    {
      "cell_type": "code",
      "metadata": {
        "colab": {
          "base_uri": "https://localhost:8080/"
        },
        "id": "pqXKDlb2rrRt",
        "outputId": "607301d2-1d7e-49ea-89a9-f1b463277362"
      },
      "source": [
        "# Get Accuracy of using Gaussian Width\r\n",
        "avgerror=np.mean(np.abs(y-h))\r\n",
        "accuracy=1-avgerror\r\n",
        "\r\n",
        "# Accuracy of Same Variation case\r\n",
        "svavgerror=np.mean(np.abs(svy-h))\r\n",
        "svaccuracy=1-svavgerror\r\n",
        "\r\n",
        "print(accuracy)\r\n",
        "print(svaccuracy)"
      ],
      "execution_count": 8,
      "outputs": [
        {
          "output_type": "stream",
          "text": [
            "0.9359798537061974\n",
            "0.8627080664643432\n"
          ],
          "name": "stdout"
        }
      ]
    }
  ]
}